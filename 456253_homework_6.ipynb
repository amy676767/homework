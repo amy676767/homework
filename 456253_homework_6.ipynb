{
 "cells": [
  {
   "cell_type": "markdown",
   "metadata": {
    "deletable": false,
    "editable": false,
    "nbgrader": {
     "checksum": "4c6c44de001d9fa96ec5a78a6801f161",
     "grade": false,
     "grade_id": "cell-a4c41f39205051c2",
     "locked": true,
     "schema_version": 1,
     "solution": false
    }
   },
   "source": [
    "# Homework 6\n",
    "\n",
    "## Problem 1\n",
    "\n",
    "In this problem, you are asked to implement two function. The first functiong gets NFL match data from \"Data\\nflgames.csv\" and the NFL team data from \"Data\\nflteams.csv\", and save them into two dataframes (nflgames_df and nflteams_df).\n",
    "\n",
    "The second function takes in the nflgames_df and addes two new columns called **\"MOV\"** and **\"HomeWinInd\"**. **MOV** is equal to the score won (or lost) by the home team, which is equal to HomeScore - AwayScore. **HomeWinInd** is 1 if the Home team win in the match, 0 otherwise. In other words, **HomeWinInd** is 1 if and only if **MOV** > 1.\n",
    "\n"
   ]
  },
  {
   "cell_type": "code",
   "execution_count": 63,
   "metadata": {
    "deletable": false,
    "nbgrader": {
     "checksum": "b6a1a0f5465cb73e454752cbfb6afcd4",
     "grade": false,
     "grade_id": "cell-b78086c290d4a60c",
     "locked": false,
     "schema_version": 1,
     "solution": true
    }
   },
   "outputs": [],
   "source": [
    "import pandas as pd\n",
    "\n",
    "#from pandasql import sqldf\n",
    "\n",
    "\n",
    "\n",
    "\n",
    "def GetData():\n",
    "    games_df = pd.read_csv(\"data/nflgames.csv\")\n",
    "    teams_df = pd.read_csv(\"data/nflteams.csv\")    \n",
    "    return [games_df, teams_df]\n",
    "\n",
    "GetData()\n",
    "\n",
    "def AddHomeWin(games_df):\n",
    "\n",
    "    games_df[\"MOV\"]=games_df[\"HomeScore\"]-games_df[\"AwayScore\"]\n",
    "    games_df[\"HomeWinInd\"] = games_df[\"MOV\"].apply(lambda x: 1 if x >=1 else 0)\n",
    "    #for games_df[\"HomeWinInd\"] in range games_df[\"HomeWinInd\"]:\n",
    "       \n",
    "    return games_df\n"
   ]
  },
  {
   "cell_type": "code",
   "execution_count": 64,
   "metadata": {
    "deletable": false,
    "editable": false,
    "nbgrader": {
     "checksum": "efd7a6c5df7e9b2e3fa56dfcb7b66253",
     "grade": true,
     "grade_id": "cell-2853176972493b6e",
     "locked": true,
     "points": 10,
     "schema_version": 1,
     "solution": false
    }
   },
   "outputs": [],
   "source": [
    "[games_df, teams_df] = GetData()\n",
    "games_df = AddHomeWin(games_df)\n",
    "assert games_df.shape == (192,13)\n",
    "assert teams_df.shape == (32,4)"
   ]
  },
  {
   "cell_type": "code",
   "execution_count": 65,
   "metadata": {
    "deletable": false,
    "editable": false,
    "nbgrader": {
     "checksum": "f9f005ce81a1987e141cdaf9bdbc67d4",
     "grade": true,
     "grade_id": "cell-b16dd3056b5a9f95",
     "locked": true,
     "points": 10,
     "schema_version": 1,
     "solution": false
    }
   },
   "outputs": [],
   "source": [
    "assert round(games_df[\"MOV\"].mean(), 2) == 3.91\n",
    "assert round(games_df[\"HomeWinInd\"].mean(), 2) == 0.58"
   ]
  },
  {
   "cell_type": "markdown",
   "metadata": {
    "deletable": false,
    "editable": false,
    "nbgrader": {
     "checksum": "ddeca70f1bdf9bf2711238f35c8cd171",
     "grade": false,
     "grade_id": "cell-1c14a1786a26dc5a",
     "locked": true,
     "schema_version": 1,
     "solution": false
    }
   },
   "source": [
    "## Problem 2\n",
    "\n",
    "In this problem, you are asked to implement a function which groups the games_df dataset by HomeTeamID, and computes the average home win percentage, called **\"AvgWinPerc**, and the average home win scores, called **\"AvgWinScores\"**. The function returns a new data called **hometeam_df**, which contains 3 columns: HomeTeamID, AvgWinPerc and AvgWinScores."
   ]
  },
  {
   "cell_type": "code",
   "execution_count": 66,
   "metadata": {
    "deletable": false,
    "nbgrader": {
     "checksum": "eb17d67fc99527a9cefbc6e304e96f03",
     "grade": false,
     "grade_id": "cell-562beecb93f03f23",
     "locked": false,
     "schema_version": 1,
     "solution": true
    }
   },
   "outputs": [
    {
     "ename": "ModuleNotFoundError",
     "evalue": "No module named 'pandasql'",
     "output_type": "error",
     "traceback": [
      "\u001b[1;31m---------------------------------------------------------------------------\u001b[0m",
      "\u001b[1;31mModuleNotFoundError\u001b[0m                       Traceback (most recent call last)",
      "\u001b[1;32m<ipython-input-66-7563495715b4>\u001b[0m in \u001b[0;36m<module>\u001b[1;34m()\u001b[0m\n\u001b[0;32m      1\u001b[0m \u001b[1;31m#import pyodbc\u001b[0m\u001b[1;33m\u001b[0m\u001b[1;33m\u001b[0m\u001b[0m\n\u001b[0;32m      2\u001b[0m \u001b[1;31m#import pandas.io.sql as psql\u001b[0m\u001b[1;33m\u001b[0m\u001b[1;33m\u001b[0m\u001b[0m\n\u001b[1;32m----> 3\u001b[1;33m \u001b[1;32mimport\u001b[0m \u001b[0mpandasql\u001b[0m \u001b[1;32mas\u001b[0m \u001b[0mps\u001b[0m\u001b[1;33m\u001b[0m\u001b[0m\n\u001b[0m\u001b[0;32m      4\u001b[0m \u001b[1;33m\u001b[0m\u001b[0m\n\u001b[0;32m      5\u001b[0m \u001b[1;32mdef\u001b[0m \u001b[0mHomeTeamStat\u001b[0m\u001b[1;33m(\u001b[0m\u001b[0mhometeam_df\u001b[0m\u001b[1;33m)\u001b[0m\u001b[1;33m:\u001b[0m\u001b[1;33m\u001b[0m\u001b[0m\n",
      "\u001b[1;31mModuleNotFoundError\u001b[0m: No module named 'pandasql'"
     ]
    }
   ],
   "source": [
    "#import pyodbc\n",
    "#import pandas.io.sql as psql\n",
    "import pandasql as ps\n",
    "\n",
    "def HomeTeamStat(hometeam_df):\n",
    "    #hometeam_df = AddHomeWin(games_df)\n",
    "    hometeam_df = psql(\"SELECT HomeTeamID, \\\n",
    "    SUM(HomeWinInd)/COUNT(HomeWinInd) AS AvgWinPerc, AVG(HomeScore) AS AvgWinScores FROM games_df WHERE MOV=1 GROUP BY HomeTeamID\")\n",
    "    \n",
    "  \n",
    "    return hometeam_df\n",
    "\n"
   ]
  },
  {
   "cell_type": "code",
   "execution_count": 67,
   "metadata": {
    "deletable": false,
    "editable": false,
    "nbgrader": {
     "checksum": "686a1fa181da2bf1cf3a6d62351a16e4",
     "grade": true,
     "grade_id": "cell-681343a4d7e22bbd",
     "locked": true,
     "points": 15,
     "schema_version": 1,
     "solution": false
    }
   },
   "outputs": [
    {
     "ename": "TypeError",
     "evalue": "'module' object is not callable",
     "output_type": "error",
     "traceback": [
      "\u001b[1;31m---------------------------------------------------------------------------\u001b[0m",
      "\u001b[1;31mTypeError\u001b[0m                                 Traceback (most recent call last)",
      "\u001b[1;32m<ipython-input-67-f0ee7480dd2e>\u001b[0m in \u001b[0;36m<module>\u001b[1;34m()\u001b[0m\n\u001b[0;32m      1\u001b[0m \u001b[1;33m[\u001b[0m\u001b[0mgames_df\u001b[0m\u001b[1;33m,\u001b[0m \u001b[0mteams_df\u001b[0m\u001b[1;33m]\u001b[0m \u001b[1;33m=\u001b[0m \u001b[0mGetData\u001b[0m\u001b[1;33m(\u001b[0m\u001b[1;33m)\u001b[0m\u001b[1;33m\u001b[0m\u001b[0m\n\u001b[0;32m      2\u001b[0m \u001b[0mgames_df\u001b[0m \u001b[1;33m=\u001b[0m \u001b[0mAddHomeWin\u001b[0m\u001b[1;33m(\u001b[0m\u001b[0mgames_df\u001b[0m\u001b[1;33m)\u001b[0m\u001b[1;33m\u001b[0m\u001b[0m\n\u001b[1;32m----> 3\u001b[1;33m \u001b[0mhometeam_df\u001b[0m \u001b[1;33m=\u001b[0m \u001b[0mHomeTeamStat\u001b[0m\u001b[1;33m(\u001b[0m\u001b[0mgames_df\u001b[0m\u001b[1;33m)\u001b[0m\u001b[1;33m\u001b[0m\u001b[0m\n\u001b[0m\u001b[0;32m      4\u001b[0m \u001b[1;32massert\u001b[0m \u001b[0mhometeam_df\u001b[0m\u001b[1;33m.\u001b[0m\u001b[0mshape\u001b[0m \u001b[1;33m==\u001b[0m \u001b[1;33m(\u001b[0m\u001b[1;36m32\u001b[0m\u001b[1;33m,\u001b[0m\u001b[1;36m3\u001b[0m\u001b[1;33m)\u001b[0m\u001b[1;33m\u001b[0m\u001b[0m\n\u001b[0;32m      5\u001b[0m \u001b[1;32massert\u001b[0m \u001b[0mround\u001b[0m\u001b[1;33m(\u001b[0m\u001b[0mhometeam_df\u001b[0m\u001b[1;33m[\u001b[0m\u001b[1;34m\"AvgWinPerc\"\u001b[0m\u001b[1;33m]\u001b[0m\u001b[1;33m.\u001b[0m\u001b[0mmean\u001b[0m\u001b[1;33m(\u001b[0m\u001b[1;33m)\u001b[0m\u001b[1;33m,\u001b[0m \u001b[1;36m2\u001b[0m\u001b[1;33m)\u001b[0m \u001b[1;33m==\u001b[0m \u001b[1;36m0.58\u001b[0m\u001b[1;33m\u001b[0m\u001b[0m\n",
      "\u001b[1;32m<ipython-input-60-c214df96c44a>\u001b[0m in \u001b[0;36mHomeTeamStat\u001b[1;34m(hometeam_df)\u001b[0m\n\u001b[0;32m      4\u001b[0m \u001b[1;32mdef\u001b[0m \u001b[0mHomeTeamStat\u001b[0m\u001b[1;33m(\u001b[0m\u001b[0mhometeam_df\u001b[0m\u001b[1;33m)\u001b[0m\u001b[1;33m:\u001b[0m\u001b[1;33m\u001b[0m\u001b[0m\n\u001b[0;32m      5\u001b[0m     \u001b[1;31m#hometeam_df = AddHomeWin(games_df)\u001b[0m\u001b[1;33m\u001b[0m\u001b[1;33m\u001b[0m\u001b[0m\n\u001b[1;32m----> 6\u001b[1;33m     \u001b[0mhometeam_df\u001b[0m \u001b[1;33m=\u001b[0m \u001b[0mpsql\u001b[0m\u001b[1;33m(\u001b[0m\u001b[1;34m\"SELECT HomeTeamID,     SUM(HomeWinInd)/COUNT(HomeWinInd) AS AvgWinPerc, AVG(HomeScore) AS AvgWinScores FROM games_df WHERE MOV=1 GROUP BY HomeTeamID\"\u001b[0m\u001b[1;33m)\u001b[0m\u001b[1;33m\u001b[0m\u001b[0m\n\u001b[0m\u001b[0;32m      7\u001b[0m \u001b[1;33m\u001b[0m\u001b[0m\n\u001b[0;32m      8\u001b[0m \u001b[1;33m\u001b[0m\u001b[0m\n",
      "\u001b[1;31mTypeError\u001b[0m: 'module' object is not callable"
     ]
    }
   ],
   "source": [
    "[games_df, teams_df] = GetData()\n",
    "games_df = AddHomeWin(games_df)\n",
    "hometeam_df = HomeTeamStat(games_df)\n",
    "assert hometeam_df.shape == (32,3)\n",
    "assert round(hometeam_df[\"AvgWinPerc\"].mean(), 2) == 0.58\n",
    "assert round(hometeam_df[\"AvgWinScores\"].mean(), 2) == 3.82"
   ]
  },
  {
   "cell_type": "markdown",
   "metadata": {
    "deletable": false,
    "editable": false,
    "nbgrader": {
     "checksum": "b0f53cf5c3dea682974a2904aae271c5",
     "grade": false,
     "grade_id": "cell-2126eb613c731192",
     "locked": true,
     "schema_version": 1,
     "solution": false
    }
   },
   "source": [
    "## Problem 3\n",
    "In this problem, you are asked to take in the hometeam_df generated by the previous problem, the team_df, and return a new dataset called **\"top_hometeam_df\"**, which contains 10 top teams ranked by the home win percentage descendingly (and if the home win percetnage ties between 2 teams, then rank the teams by average home win scores). The returned dataframe will contain 10 rows (corresponding to the top 10 teams) and 3 columns: TeamName, AvgWinPerc and AvgWinScore.\n",
    "\n",
    "Hint: You need to use teams_df to get the nams of the home teams."
   ]
  },
  {
   "cell_type": "code",
   "execution_count": null,
   "metadata": {
    "deletable": false,
    "nbgrader": {
     "checksum": "6d7224be2057d36be1f96da2dd19470b",
     "grade": false,
     "grade_id": "cell-a3c8e33b23a52cfd",
     "locked": false,
     "schema_version": 1,
     "solution": true
    }
   },
   "outputs": [],
   "source": [
    "def TopHomeTeam(hometeam_df, teams_df):\n",
    "    top_hometeam_df = None\n",
    "    \n",
    "    # YOUR CODE HERE\n",
    "    raise NotImplementedError()\n",
    "    \n",
    "    return top_hometeam_df"
   ]
  },
  {
   "cell_type": "code",
   "execution_count": null,
   "metadata": {
    "deletable": false,
    "editable": false,
    "nbgrader": {
     "checksum": "70f9d0aa8775350f86d675041b3b65c7",
     "grade": true,
     "grade_id": "cell-d143e38c322d9286",
     "locked": true,
     "points": 15,
     "schema_version": 1,
     "solution": false
    }
   },
   "outputs": [],
   "source": [
    "[games_df, teams_df] = GetData()\n",
    "games_df = AddHomeWin(games_df)\n",
    "hometeam_df = HomeTeamStat(games_df)\n",
    "top_hometeam_df = TopHomeTeam(hometeam_df, teams_df)\n",
    "assert top_hometeam_df[\"TeamName\"].tolist() == \\\n",
    "    ['Green Bay Packers', 'New England Patriots', 'Philadelphia Eagles', 'Denver Broncos', 'Arizona Cardinals', \\\n",
    "     'San Diego Chargers', 'Seattle Seahawks', 'Detroit Lions', 'Indianapolis Colts', 'Baltimore Ravens']"
   ]
  },
  {
   "cell_type": "markdown",
   "metadata": {
    "deletable": false,
    "editable": false,
    "nbgrader": {
     "checksum": "1ba003cc5bb99193d34ff1513c7fc16c",
     "grade": false,
     "grade_id": "cell-25548f70e5984803",
     "locked": true,
     "schema_version": 1,
     "solution": false
    }
   },
   "source": [
    "## Problem 4 \n",
    "\n",
    "You are give a dataset which contains the nfl match history in a year. The following figure gives you a description of database. \n",
    "\n",
    "<img src=\"./data/table.png\" width=\"600\">\n",
    "\n",
    "You are asked to write a single query, which takes a team id, and returns a dataframe contains two columns. The first column is opposing_team, which is the team IDs of other teams that have been played against the team with the specified team id. The second column is num_matches, which is the number of times that this opposing team has played against the focal team (specificed by the input). The dataframe should be sorted descendingly with respect to num_matches (**If two teams have the same num_matches, they should be sorted descendingly by their opposing team id**). You are not allowed to use pandas functions except creating a dataframe. You need to use sqldf() and SQL query to get your results.\n",
    "\n",
    "For example:\n",
    "\n",
    "    Input: 1,\n",
    "    Output: \n",
    "    \n",
    "<img src=\"./data/result.png\" height=\"350\" width=\"200\">"
   ]
  },
  {
   "cell_type": "code",
   "execution_count": null,
   "metadata": {
    "deletable": false,
    "nbgrader": {
     "checksum": "f264082f125ec6b07130a1413845de0a",
     "grade": false,
     "grade_id": "cell-72cf7018f4d695a2",
     "locked": false,
     "schema_version": 1,
     "solution": true
    }
   },
   "outputs": [],
   "source": [
    "def opposing_team(team_id):\n",
    "    nfl_games = pd.read_csv(\"./data/nflgames.csv\")\n",
    "    df_opposing_team = None\n",
    "    \n",
    "    # YOUR CODE HERE\n",
    "    raise NotImplementedError()\n",
    "    \n",
    "    return df_opposing_team"
   ]
  },
  {
   "cell_type": "code",
   "execution_count": null,
   "metadata": {
    "deletable": false,
    "editable": false,
    "nbgrader": {
     "checksum": "c0b96c1ec9913d7d53160532ba51698e",
     "grade": true,
     "grade_id": "cell-06c7dc215450e8bd",
     "locked": true,
     "points": 50,
     "schema_version": 1,
     "solution": false
    }
   },
   "outputs": [],
   "source": [
    "assert opposing_team(29).values.tolist() == [[1, 2], [27, 1], [22, 1], [20, 1], [19, 1], \\\n",
    "                                             [15, 1], [13, 1], [12, 1], [11, 1], [7, 1], [6, 1]]\n",
    "\n",
    "assert opposing_team(1).values.tolist() == [[29, 2], [28, 2], [27, 1], [22, 1], [20, 1], \\\n",
    "                                            [19, 1], [15, 1], [12, 1], [9, 1], [7, 1]]"
   ]
  }
 ],
 "metadata": {
  "kernelspec": {
   "display_name": "Python 3",
   "language": "python",
   "name": "python3"
  },
  "language_info": {
   "codemirror_mode": {
    "name": "ipython",
    "version": 3
   },
   "file_extension": ".py",
   "mimetype": "text/x-python",
   "name": "python",
   "nbconvert_exporter": "python",
   "pygments_lexer": "ipython3",
   "version": "3.6.5"
  },
  "toc": {
   "colors": {
    "hover_highlight": "#DAA520",
    "navigate_num": "#000000",
    "navigate_text": "#333333",
    "running_highlight": "#FF0000",
    "selected_highlight": "#FFD700",
    "sidebar_border": "#EEEEEE",
    "wrapper_background": "#FFFFFF"
   },
   "moveMenuLeft": true,
   "nav_menu": {
    "height": "30px",
    "width": "252px"
   },
   "navigate_menu": true,
   "number_sections": true,
   "sideBar": true,
   "skip_h1_title": false,
   "threshold": 4,
   "toc_cell": false,
   "toc_position": {},
   "toc_section_display": "block",
   "toc_window_display": false,
   "widenNotebook": false
  }
 },
 "nbformat": 4,
 "nbformat_minor": 2
}
